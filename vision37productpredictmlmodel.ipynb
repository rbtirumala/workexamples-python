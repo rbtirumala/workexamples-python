{
  "nbformat": 4,
  "nbformat_minor": 0,
  "metadata": {
    "colab": {
      "name": "vision37productpredictmlmodel.ipynb",
      "provenance": [],
      "collapsed_sections": [],
      "authorship_tag": "ABX9TyOygo3pVR4vAwhmjXcuk+zl",
      "include_colab_link": true
    },
    "kernelspec": {
      "name": "python3",
      "display_name": "Python 3"
    },
    "language_info": {
      "name": "python"
    }
  },
  "cells": [
    {
      "cell_type": "markdown",
      "metadata": {
        "id": "view-in-github",
        "colab_type": "text"
      },
      "source": [
        "<a href=\"https://colab.research.google.com/github/rbtirumala/workexamples-python/blob/master/vision37productpredictmlmodel.ipynb\" target=\"_parent\"><img src=\"https://colab.research.google.com/assets/colab-badge.svg\" alt=\"Open In Colab\"/></a>"
      ]
    },
    {
      "cell_type": "markdown",
      "source": [
        "**Tensor Flow AI Model to help Predict Product Re-ordering in Convenience Store Aisles/Shelf**\n",
        "\n"
      ],
      "metadata": {
        "id": "svu3G8DMTCdq"
      }
    },
    {
      "cell_type": "code",
      "execution_count": null,
      "metadata": {
        "colab": {
          "base_uri": "https://localhost:8080/"
        },
        "id": "vkzyJXoK7k5J",
        "outputId": "436e0024-3228-4d91-a6bf-b8318ddd9998"
      },
      "outputs": [
        {
          "output_type": "stream",
          "name": "stdout",
          "text": [
            "2.8.0\n"
          ]
        }
      ],
      "source": [
        "# Import TensorFlow\n",
        "import tensorflow as tf\n",
        "print(tf.__version__)"
      ]
    },
    {
      "cell_type": "markdown",
      "source": [
        " **Create Features (time) for ML modeling products sold in C-store - time series**"
      ],
      "metadata": {
        "id": "XAEE4RVW1HjI"
      }
    },
    {
      "cell_type": "code",
      "source": [
        "import numpy as np\n",
        "X= np.array([1,2,3,4,5,6,7,8,9,10,11,12,13,14,15,16,17,18,19,20,21,22,23,24])\n",
        "print (X)\n",
        "len(X)\n"
      ],
      "metadata": {
        "colab": {
          "base_uri": "https://localhost:8080/"
        },
        "id": "8XDZggKs09-G",
        "outputId": "6b3bc4b7-113a-458c-8c2f-73c5a90ab952"
      },
      "execution_count": null,
      "outputs": [
        {
          "output_type": "stream",
          "name": "stdout",
          "text": [
            "[ 1  2  3  4  5  6  7  8  9 10 11 12 13 14 15 16 17 18 19 20 21 22 23 24]\n"
          ]
        },
        {
          "output_type": "execute_result",
          "data": {
            "text/plain": [
              "24"
            ]
          },
          "metadata": {},
          "execution_count": 3
        }
      ]
    },
    {
      "cell_type": "markdown",
      "source": [
        "**Create Labels for candy count**\n"
      ],
      "metadata": {
        "id": "U8-Py_R42Dsz"
      }
    },
    {
      "cell_type": "code",
      "source": [
        "y = np.array([36,34,34,30,28,27,24,22,19,19,18,16,15,14,12,11,9,8,8,6,5,4,2,2])\n",
        "print(len(y))\n"
      ],
      "metadata": {
        "colab": {
          "base_uri": "https://localhost:8080/"
        },
        "id": "LvjJHs6l2JG-",
        "outputId": "b532fa80-9d62-402f-b990-d0ba4d807d0a"
      },
      "execution_count": null,
      "outputs": [
        {
          "output_type": "stream",
          "name": "stdout",
          "text": [
            "24\n"
          ]
        }
      ]
    },
    {
      "cell_type": "code",
      "source": [
        "import matplotlib.pyplot as plt\n",
        "plt.scatter(X,y)"
      ],
      "metadata": {
        "colab": {
          "base_uri": "https://localhost:8080/",
          "height": 283
        },
        "id": "UOHADnYb3Ls3",
        "outputId": "8dac8df1-5d62-4c67-ccd7-c60863577a57"
      },
      "execution_count": null,
      "outputs": [
        {
          "output_type": "execute_result",
          "data": {
            "text/plain": [
              "<matplotlib.collections.PathCollection at 0x7f02e73af350>"
            ]
          },
          "metadata": {},
          "execution_count": 5
        },
        {
          "output_type": "display_data",
          "data": {
            "text/plain": [
              "<Figure size 432x288 with 1 Axes>"
            ],
            "image/png": "[encoded data removed]"
          },
          "metadata": {
            "needs_background": "light"
          }
        }
      ]
    },
    {
      "cell_type": "markdown",
      "source": [
        "**Turning Numpy arrays into Tensors so we can use tensorflow**"
      ],
      "metadata": {
        "id": "Kx0rGrEA-B8p"
      }
    },
    {
      "cell_type": "code",
      "source": [
        "# Turning numpy array into Tensors\n",
        "X = tf.constant(X)\n",
        "y = tf.constant(y)\n",
        "X, y\n"
      ],
      "metadata": {
        "colab": {
          "base_uri": "https://localhost:8080/"
        },
        "id": "Ha_DWtat3zcE",
        "outputId": "b64af46b-6eb8-45be-80c8-6972df30a227"
      },
      "execution_count": null,
      "outputs": [
        {
          "output_type": "execute_result",
          "data": {
            "text/plain": [
              "(<tf.Tensor: shape=(24,), dtype=int64, numpy=\n",
              " array([ 1,  2,  3,  4,  5,  6,  7,  8,  9, 10, 11, 12, 13, 14, 15, 16, 17,\n",
              "        18, 19, 20, 21, 22, 23, 24])>,\n",
              " <tf.Tensor: shape=(24,), dtype=int64, numpy=\n",
              " array([36, 34, 34, 30, 28, 27, 24, 22, 19, 19, 18, 16, 15, 14, 12, 11,  9,\n",
              "         8,  8,  6,  5,  4,  2,  2])>)"
            ]
          },
          "metadata": {},
          "execution_count": 6
        }
      ]
    },
    {
      "cell_type": "code",
      "source": [
        "X_train = X[:18]\n",
        "X_test = X[18:]\n",
        "X_train, X_test"
      ],
      "metadata": {
        "colab": {
          "base_uri": "https://localhost:8080/"
        },
        "id": "GLjh2KT84cxi",
        "outputId": "24c3d0ba-4a68-43b9-dee9-c9b195864f51"
      },
      "execution_count": null,
      "outputs": [
        {
          "output_type": "execute_result",
          "data": {
            "text/plain": [
              "(<tf.Tensor: shape=(18,), dtype=int64, numpy=\n",
              " array([ 1,  2,  3,  4,  5,  6,  7,  8,  9, 10, 11, 12, 13, 14, 15, 16, 17,\n",
              "        18])>,\n",
              " <tf.Tensor: shape=(6,), dtype=int64, numpy=array([19, 20, 21, 22, 23, 24])>)"
            ]
          },
          "metadata": {},
          "execution_count": 7
        }
      ]
    },
    {
      "cell_type": "code",
      "source": [
        "y_train = y[:18]\n",
        "y_test =  y[18:]\n",
        "y_train, y_test"
      ],
      "metadata": {
        "colab": {
          "base_uri": "https://localhost:8080/"
        },
        "id": "rzpVvNnE4uMs",
        "outputId": "b37163bd-3c24-4412-ea02-73d4e75c4f35"
      },
      "execution_count": null,
      "outputs": [
        {
          "output_type": "execute_result",
          "data": {
            "text/plain": [
              "(<tf.Tensor: shape=(18,), dtype=int64, numpy=\n",
              " array([36, 34, 34, 30, 28, 27, 24, 22, 19, 19, 18, 16, 15, 14, 12, 11,  9,\n",
              "         8])>,\n",
              " <tf.Tensor: shape=(6,), dtype=int64, numpy=array([8, 6, 5, 4, 2, 2])>)"
            ]
          },
          "metadata": {},
          "execution_count": 8
        }
      ]
    },
    {
      "cell_type": "markdown",
      "source": [
        ""
      ],
      "metadata": {
        "id": "72j_HLuW-3EQ"
      }
    },
    {
      "cell_type": "markdown",
      "source": [
        "**Create a tensorflow machine learning using regression neural networks model**"
      ],
      "metadata": {
        "id": "b7yrw9O55_Kn"
      }
    },
    {
      "cell_type": "code",
      "source": [
        "# Set random seed\n",
        "tf.random.set_seed(42)"
      ],
      "metadata": {
        "id": "c15KOD1C9LMl"
      },
      "execution_count": null,
      "outputs": []
    },
    {
      "cell_type": "code",
      "source": [
        "model = tf.keras.Sequential([\n",
        "        tf.keras.layers.Dense(100,activation = 'relu'),\n",
        "        tf.keras.layers.Dense(100,activation = 'relu'),\n",
        "        tf.keras.layers.Dense(100,activation = 'relu'),\n",
        "        tf.keras.layers.Dense(100,activation = 'relu'),\n",
        "        tf.keras.layers.Dense(100,activation = 'relu'),\n",
        "        tf.keras.layers.Dense(1)])"
      ],
      "metadata": {
        "id": "X99Inm4k49qt"
      },
      "execution_count": null,
      "outputs": []
    },
    {
      "cell_type": "markdown",
      "source": [
        ""
      ],
      "metadata": {
        "id": "ZhC9PYF8_mUD"
      }
    },
    {
      "cell_type": "markdown",
      "source": [
        "**Compiling the model**"
      ],
      "metadata": {
        "id": "-gPE-oCH7bk3"
      }
    },
    {
      "cell_type": "code",
      "source": [
        "model.compile(loss = tf.keras.losses.mae, \n",
        "              optimizer = tf.keras.optimizers.Adam(lr=0.0001),\n",
        "              metrics =[\"mse\"])"
      ],
      "metadata": {
        "colab": {
          "base_uri": "https://localhost:8080/"
        },
        "id": "qu_azmuN7ZHz",
        "outputId": "61697bbf-68ba-4baf-c4f3-991495e1055d"
      },
      "execution_count": null,
      "outputs": [
        {
          "output_type": "stream",
          "name": "stderr",
          "text": [
            "/usr/local/lib/python3.7/dist-packages/keras/optimizer_v2/adam.py:105: UserWarning: The `lr` argument is deprecated, use `learning_rate` instead.\n",
            "  super(Adam, self).__init__(name, **kwargs)\n"
          ]
        }
      ]
    },
    {
      "cell_type": "markdown",
      "source": [
        ""
      ],
      "metadata": {
        "id": "bIlh1hmq_-cf"
      }
    },
    {
      "cell_type": "markdown",
      "source": [
        "**Fit the model**"
      ],
      "metadata": {
        "id": "qq2u3h3Y76Nr"
      }
    },
    {
      "cell_type": "code",
      "source": [
        "# Fit model (this time we'll train for longer)\n",
        "model.fit(tf.expand_dims(X_train, axis=-1), y_train, epochs=200) # train for 100 epochs not 10"
      ],
      "metadata": {
        "colab": {
          "base_uri": "https://localhost:8080/"
        },
        "id": "dLQUD7yd7_0m",
        "outputId": "baad3fd8-9f94-4c5f-8a76-20ee0b3593f0"
      },
      "execution_count": null,
      "outputs": [
        {
          "output_type": "stream",
          "name": "stdout",
          "text": [
            "Epoch 1/200\n",
            "1/1 [==============================] - 1s 545ms/step - loss: 3.0119 - mse: 11.7608\n",
            "Epoch 2/200\n",
            "1/1 [==============================] - 0s 23ms/step - loss: 2.9571 - mse: 11.3173\n",
            "Epoch 3/200\n",
            "1/1 [==============================] - 0s 15ms/step - loss: 2.9020 - mse: 10.9001\n",
            "Epoch 4/200\n",
            "1/1 [==============================] - 0s 10ms/step - loss: 2.8467 - mse: 10.5093\n",
            "Epoch 5/200\n",
            "1/1 [==============================] - 0s 10ms/step - loss: 2.7917 - mse: 10.1495\n",
            "Epoch 6/200\n",
            "1/1 [==============================] - 0s 11ms/step - loss: 2.7362 - mse: 9.8151\n",
            "Epoch 7/200\n",
            "1/1 [==============================] - 0s 11ms/step - loss: 2.6803 - mse: 9.5070\n",
            "Epoch 8/200\n",
            "1/1 [==============================] - 0s 11ms/step - loss: 2.6240 - mse: 9.2274\n",
            "Epoch 9/200\n",
            "1/1 [==============================] - 0s 14ms/step - loss: 2.5762 - mse: 8.9780\n",
            "Epoch 10/200\n",
            "1/1 [==============================] - 0s 20ms/step - loss: 2.5322 - mse: 8.7347\n",
            "Epoch 11/200\n",
            "1/1 [==============================] - 0s 10ms/step - loss: 2.4876 - mse: 8.4995\n",
            "Epoch 12/200\n",
            "1/1 [==============================] - 0s 11ms/step - loss: 2.4423 - mse: 8.2692\n",
            "Epoch 13/200\n",
            "1/1 [==============================] - 0s 10ms/step - loss: 2.3964 - mse: 8.0434\n",
            "Epoch 14/200\n",
            "1/1 [==============================] - 0s 11ms/step - loss: 2.3500 - mse: 7.8240\n",
            "Epoch 15/200\n",
            "1/1 [==============================] - 0s 13ms/step - loss: 2.3036 - mse: 7.6129\n",
            "Epoch 16/200\n",
            "1/1 [==============================] - 0s 16ms/step - loss: 2.2569 - mse: 7.4079\n",
            "Epoch 17/200\n",
            "1/1 [==============================] - 0s 10ms/step - loss: 2.2101 - mse: 7.2095\n",
            "Epoch 18/200\n",
            "1/1 [==============================] - 0s 16ms/step - loss: 2.1660 - mse: 7.0057\n",
            "Epoch 19/200\n",
            "1/1 [==============================] - 0s 15ms/step - loss: 2.1210 - mse: 6.8015\n",
            "Epoch 20/200\n",
            "1/1 [==============================] - 0s 15ms/step - loss: 2.0762 - mse: 6.5966\n",
            "Epoch 21/200\n",
            "1/1 [==============================] - 0s 17ms/step - loss: 2.0303 - mse: 6.3914\n",
            "Epoch 22/200\n",
            "1/1 [==============================] - 0s 16ms/step - loss: 1.9836 - mse: 6.1872\n",
            "Epoch 23/200\n",
            "1/1 [==============================] - 0s 22ms/step - loss: 1.9368 - mse: 5.9879\n",
            "Epoch 24/200\n",
            "1/1 [==============================] - 0s 16ms/step - loss: 1.8889 - mse: 5.7906\n",
            "Epoch 25/200\n",
            "1/1 [==============================] - 0s 16ms/step - loss: 1.8405 - mse: 5.5978\n",
            "Epoch 26/200\n",
            "1/1 [==============================] - 0s 17ms/step - loss: 1.7966 - mse: 5.4121\n",
            "Epoch 27/200\n",
            "1/1 [==============================] - 0s 19ms/step - loss: 1.7592 - mse: 5.2163\n",
            "Epoch 28/200\n",
            "1/1 [==============================] - 0s 16ms/step - loss: 1.7205 - mse: 5.0129\n",
            "Epoch 29/200\n",
            "1/1 [==============================] - 0s 16ms/step - loss: 1.6820 - mse: 4.8106\n",
            "Epoch 30/200\n",
            "1/1 [==============================] - 0s 18ms/step - loss: 1.6434 - mse: 4.6132\n",
            "Epoch 31/200\n",
            "1/1 [==============================] - 0s 13ms/step - loss: 1.6047 - mse: 4.4209\n",
            "Epoch 32/200\n",
            "1/1 [==============================] - 0s 13ms/step - loss: 1.5683 - mse: 4.2360\n",
            "Epoch 33/200\n",
            "1/1 [==============================] - 0s 13ms/step - loss: 1.5344 - mse: 4.0643\n",
            "Epoch 34/200\n",
            "1/1 [==============================] - 0s 13ms/step - loss: 1.5003 - mse: 3.9055\n",
            "Epoch 35/200\n",
            "1/1 [==============================] - 0s 14ms/step - loss: 1.4657 - mse: 3.7568\n",
            "Epoch 36/200\n",
            "1/1 [==============================] - 0s 16ms/step - loss: 1.4337 - mse: 3.6199\n",
            "Epoch 37/200\n",
            "1/1 [==============================] - 0s 13ms/step - loss: 1.4043 - mse: 3.4853\n",
            "Epoch 38/200\n",
            "1/1 [==============================] - 0s 13ms/step - loss: 1.3751 - mse: 3.3527\n",
            "Epoch 39/200\n",
            "1/1 [==============================] - 0s 13ms/step - loss: 1.3466 - mse: 3.2207\n",
            "Epoch 40/200\n",
            "1/1 [==============================] - 0s 22ms/step - loss: 1.3187 - mse: 3.0905\n",
            "Epoch 41/200\n",
            "1/1 [==============================] - 0s 15ms/step - loss: 1.2890 - mse: 2.9623\n",
            "Epoch 42/200\n",
            "1/1 [==============================] - 0s 19ms/step - loss: 1.2605 - mse: 2.8477\n",
            "Epoch 43/200\n",
            "1/1 [==============================] - 0s 16ms/step - loss: 1.2329 - mse: 2.7340\n",
            "Epoch 44/200\n",
            "1/1 [==============================] - 0s 9ms/step - loss: 1.2063 - mse: 2.6227\n",
            "Epoch 45/200\n",
            "1/1 [==============================] - 0s 26ms/step - loss: 1.1814 - mse: 2.5129\n",
            "Epoch 46/200\n",
            "1/1 [==============================] - 0s 17ms/step - loss: 1.1569 - mse: 2.3960\n",
            "Epoch 47/200\n",
            "1/1 [==============================] - 0s 15ms/step - loss: 1.1341 - mse: 2.2840\n",
            "Epoch 48/200\n",
            "1/1 [==============================] - 0s 12ms/step - loss: 1.1123 - mse: 2.1681\n",
            "Epoch 49/200\n",
            "1/1 [==============================] - 0s 13ms/step - loss: 1.0915 - mse: 2.0497\n",
            "Epoch 50/200\n",
            "1/1 [==============================] - 0s 20ms/step - loss: 1.0703 - mse: 1.9386\n",
            "Epoch 51/200\n",
            "1/1 [==============================] - 0s 14ms/step - loss: 1.0484 - mse: 1.8345\n",
            "Epoch 52/200\n",
            "1/1 [==============================] - 0s 15ms/step - loss: 1.0262 - mse: 1.7371\n",
            "Epoch 53/200\n",
            "1/1 [==============================] - 0s 13ms/step - loss: 1.0043 - mse: 1.6472\n",
            "Epoch 54/200\n",
            "1/1 [==============================] - 0s 17ms/step - loss: 0.9824 - mse: 1.5629\n",
            "Epoch 55/200\n",
            "1/1 [==============================] - 0s 17ms/step - loss: 0.9609 - mse: 1.4881\n",
            "Epoch 56/200\n",
            "1/1 [==============================] - 0s 11ms/step - loss: 0.9413 - mse: 1.4165\n",
            "Epoch 57/200\n",
            "1/1 [==============================] - 0s 17ms/step - loss: 0.9224 - mse: 1.3468\n",
            "Epoch 58/200\n",
            "1/1 [==============================] - 0s 13ms/step - loss: 0.9028 - mse: 1.2745\n",
            "Epoch 59/200\n",
            "1/1 [==============================] - 0s 13ms/step - loss: 0.8840 - mse: 1.2008\n",
            "Epoch 60/200\n",
            "1/1 [==============================] - 0s 13ms/step - loss: 0.8649 - mse: 1.1302\n",
            "Epoch 61/200\n",
            "1/1 [==============================] - 0s 14ms/step - loss: 0.8457 - mse: 1.0631\n",
            "Epoch 62/200\n",
            "1/1 [==============================] - 0s 13ms/step - loss: 0.8289 - mse: 0.9995\n",
            "Epoch 63/200\n",
            "1/1 [==============================] - 0s 12ms/step - loss: 0.8114 - mse: 0.9438\n",
            "Epoch 64/200\n",
            "1/1 [==============================] - 0s 12ms/step - loss: 0.7929 - mse: 0.8938\n",
            "Epoch 65/200\n",
            "1/1 [==============================] - 0s 15ms/step - loss: 0.7751 - mse: 0.8500\n",
            "Epoch 66/200\n",
            "1/1 [==============================] - 0s 22ms/step - loss: 0.7591 - mse: 0.8098\n",
            "Epoch 67/200\n",
            "1/1 [==============================] - 0s 10ms/step - loss: 0.7428 - mse: 0.7676\n",
            "Epoch 68/200\n",
            "1/1 [==============================] - 0s 11ms/step - loss: 0.7265 - mse: 0.7253\n",
            "Epoch 69/200\n",
            "1/1 [==============================] - 0s 10ms/step - loss: 0.7105 - mse: 0.6878\n",
            "Epoch 70/200\n",
            "1/1 [==============================] - 0s 10ms/step - loss: 0.6947 - mse: 0.6548\n",
            "Epoch 71/200\n",
            "1/1 [==============================] - 0s 21ms/step - loss: 0.6791 - mse: 0.6263\n",
            "Epoch 72/200\n",
            "1/1 [==============================] - 0s 17ms/step - loss: 0.6638 - mse: 0.6006\n",
            "Epoch 73/200\n",
            "1/1 [==============================] - 0s 16ms/step - loss: 0.6483 - mse: 0.5765\n",
            "Epoch 74/200\n",
            "1/1 [==============================] - 0s 16ms/step - loss: 0.6327 - mse: 0.5545\n",
            "Epoch 75/200\n",
            "1/1 [==============================] - 0s 21ms/step - loss: 0.6171 - mse: 0.5345\n",
            "Epoch 76/200\n",
            "1/1 [==============================] - 0s 15ms/step - loss: 0.6026 - mse: 0.5169\n",
            "Epoch 77/200\n",
            "1/1 [==============================] - 0s 18ms/step - loss: 0.5863 - mse: 0.4989\n",
            "Epoch 78/200\n",
            "1/1 [==============================] - 0s 15ms/step - loss: 0.5711 - mse: 0.4818\n",
            "Epoch 79/200\n",
            "1/1 [==============================] - 0s 17ms/step - loss: 0.5569 - mse: 0.4652\n",
            "Epoch 80/200\n",
            "1/1 [==============================] - 0s 17ms/step - loss: 0.5456 - mse: 0.4495\n",
            "Epoch 81/200\n",
            "1/1 [==============================] - 0s 27ms/step - loss: 0.5372 - mse: 0.4331\n",
            "Epoch 82/200\n",
            "1/1 [==============================] - 0s 17ms/step - loss: 0.5279 - mse: 0.4157\n",
            "Epoch 83/200\n",
            "1/1 [==============================] - 0s 17ms/step - loss: 0.5170 - mse: 0.3967\n",
            "Epoch 84/200\n",
            "1/1 [==============================] - 0s 21ms/step - loss: 0.5057 - mse: 0.3782\n",
            "Epoch 85/200\n",
            "1/1 [==============================] - 0s 16ms/step - loss: 0.4940 - mse: 0.3595\n",
            "Epoch 86/200\n",
            "1/1 [==============================] - 0s 18ms/step - loss: 0.4812 - mse: 0.3421\n",
            "Epoch 87/200\n",
            "1/1 [==============================] - 0s 18ms/step - loss: 0.4673 - mse: 0.3267\n",
            "Epoch 88/200\n",
            "1/1 [==============================] - 0s 18ms/step - loss: 0.4547 - mse: 0.3147\n",
            "Epoch 89/200\n",
            "1/1 [==============================] - 0s 16ms/step - loss: 0.4502 - mse: 0.3079\n",
            "Epoch 90/200\n",
            "1/1 [==============================] - 0s 28ms/step - loss: 0.4483 - mse: 0.3058\n",
            "Epoch 91/200\n",
            "1/1 [==============================] - 0s 18ms/step - loss: 0.4472 - mse: 0.3044\n",
            "Epoch 92/200\n",
            "1/1 [==============================] - 0s 21ms/step - loss: 0.4460 - mse: 0.3017\n",
            "Epoch 93/200\n",
            "1/1 [==============================] - 0s 15ms/step - loss: 0.4396 - mse: 0.2946\n",
            "Epoch 94/200\n",
            "1/1 [==============================] - 0s 22ms/step - loss: 0.4277 - mse: 0.2863\n",
            "Epoch 95/200\n",
            "1/1 [==============================] - 0s 19ms/step - loss: 0.4267 - mse: 0.2824\n",
            "Epoch 96/200\n",
            "1/1 [==============================] - 0s 13ms/step - loss: 0.4271 - mse: 0.2827\n",
            "Epoch 97/200\n",
            "1/1 [==============================] - 0s 19ms/step - loss: 0.4242 - mse: 0.2827\n",
            "Epoch 98/200\n",
            "1/1 [==============================] - 0s 14ms/step - loss: 0.4186 - mse: 0.2813\n",
            "Epoch 99/200\n",
            "1/1 [==============================] - 0s 18ms/step - loss: 0.4161 - mse: 0.2803\n",
            "Epoch 100/200\n",
            "1/1 [==============================] - 0s 20ms/step - loss: 0.4150 - mse: 0.2819\n",
            "Epoch 101/200\n",
            "1/1 [==============================] - 0s 15ms/step - loss: 0.4140 - mse: 0.2842\n",
            "Epoch 102/200\n",
            "1/1 [==============================] - 0s 23ms/step - loss: 0.4108 - mse: 0.2859\n",
            "Epoch 103/200\n",
            "1/1 [==============================] - 0s 22ms/step - loss: 0.4082 - mse: 0.2878\n",
            "Epoch 104/200\n",
            "1/1 [==============================] - 0s 22ms/step - loss: 0.4074 - mse: 0.2886\n",
            "Epoch 105/200\n",
            "1/1 [==============================] - 0s 12ms/step - loss: 0.4049 - mse: 0.2875\n",
            "Epoch 106/200\n",
            "1/1 [==============================] - 0s 19ms/step - loss: 0.4010 - mse: 0.2843\n",
            "Epoch 107/200\n",
            "1/1 [==============================] - 0s 20ms/step - loss: 0.3990 - mse: 0.2799\n",
            "Epoch 108/200\n",
            "1/1 [==============================] - 0s 11ms/step - loss: 0.3969 - mse: 0.2765\n",
            "Epoch 109/200\n",
            "1/1 [==============================] - 0s 12ms/step - loss: 0.3926 - mse: 0.2746\n",
            "Epoch 110/200\n",
            "1/1 [==============================] - 0s 12ms/step - loss: 0.3888 - mse: 0.2761\n",
            "Epoch 111/200\n",
            "1/1 [==============================] - 0s 13ms/step - loss: 0.3864 - mse: 0.2773\n",
            "Epoch 112/200\n",
            "1/1 [==============================] - 0s 10ms/step - loss: 0.3859 - mse: 0.2769\n",
            "Epoch 113/200\n",
            "1/1 [==============================] - 0s 12ms/step - loss: 0.3814 - mse: 0.2695\n",
            "Epoch 114/200\n",
            "1/1 [==============================] - 0s 17ms/step - loss: 0.3813 - mse: 0.2631\n",
            "Epoch 115/200\n",
            "1/1 [==============================] - 0s 11ms/step - loss: 0.3800 - mse: 0.2604\n",
            "Epoch 116/200\n",
            "1/1 [==============================] - 0s 11ms/step - loss: 0.3764 - mse: 0.2600\n",
            "Epoch 117/200\n",
            "1/1 [==============================] - 0s 10ms/step - loss: 0.3766 - mse: 0.2626\n",
            "Epoch 118/200\n",
            "1/1 [==============================] - 0s 27ms/step - loss: 0.3699 - mse: 0.2594\n",
            "Epoch 119/200\n",
            "1/1 [==============================] - 0s 19ms/step - loss: 0.3703 - mse: 0.2541\n",
            "Epoch 120/200\n",
            "1/1 [==============================] - 0s 14ms/step - loss: 0.3693 - mse: 0.2536\n",
            "Epoch 121/200\n",
            "1/1 [==============================] - 0s 12ms/step - loss: 0.3660 - mse: 0.2542\n",
            "Epoch 122/200\n",
            "1/1 [==============================] - 0s 20ms/step - loss: 0.3635 - mse: 0.2552\n",
            "Epoch 123/200\n",
            "1/1 [==============================] - 0s 22ms/step - loss: 0.3632 - mse: 0.2553\n",
            "Epoch 124/200\n",
            "1/1 [==============================] - 0s 13ms/step - loss: 0.3612 - mse: 0.2542\n",
            "Epoch 125/200\n",
            "1/1 [==============================] - 0s 20ms/step - loss: 0.3576 - mse: 0.2524\n",
            "Epoch 126/200\n",
            "1/1 [==============================] - 0s 11ms/step - loss: 0.3543 - mse: 0.2509\n",
            "Epoch 127/200\n",
            "1/1 [==============================] - 0s 11ms/step - loss: 0.3560 - mse: 0.2493\n",
            "Epoch 128/200\n",
            "1/1 [==============================] - 0s 12ms/step - loss: 0.3529 - mse: 0.2483\n",
            "Epoch 129/200\n",
            "1/1 [==============================] - 0s 15ms/step - loss: 0.3512 - mse: 0.2489\n",
            "Epoch 130/200\n",
            "1/1 [==============================] - 0s 13ms/step - loss: 0.3486 - mse: 0.2510\n",
            "Epoch 131/200\n",
            "1/1 [==============================] - 0s 11ms/step - loss: 0.3466 - mse: 0.2519\n",
            "Epoch 132/200\n",
            "1/1 [==============================] - 0s 11ms/step - loss: 0.3443 - mse: 0.2514\n",
            "Epoch 133/200\n",
            "1/1 [==============================] - 0s 10ms/step - loss: 0.3429 - mse: 0.2487\n",
            "Epoch 134/200\n",
            "1/1 [==============================] - 0s 38ms/step - loss: 0.3446 - mse: 0.2491\n",
            "Epoch 135/200\n",
            "1/1 [==============================] - 0s 31ms/step - loss: 0.3399 - mse: 0.2506\n",
            "Epoch 136/200\n",
            "1/1 [==============================] - 0s 18ms/step - loss: 0.3365 - mse: 0.2527\n",
            "Epoch 137/200\n",
            "1/1 [==============================] - 0s 49ms/step - loss: 0.3379 - mse: 0.2557\n",
            "Epoch 138/200\n",
            "1/1 [==============================] - 0s 17ms/step - loss: 0.3366 - mse: 0.2570\n",
            "Epoch 139/200\n",
            "1/1 [==============================] - 0s 23ms/step - loss: 0.3326 - mse: 0.2568\n",
            "Epoch 140/200\n",
            "1/1 [==============================] - 0s 38ms/step - loss: 0.3318 - mse: 0.2573\n",
            "Epoch 141/200\n",
            "1/1 [==============================] - 0s 38ms/step - loss: 0.3305 - mse: 0.2575\n",
            "Epoch 142/200\n",
            "1/1 [==============================] - 0s 35ms/step - loss: 0.3283 - mse: 0.2579\n",
            "Epoch 143/200\n",
            "1/1 [==============================] - 0s 25ms/step - loss: 0.3274 - mse: 0.2581\n",
            "Epoch 144/200\n",
            "1/1 [==============================] - 0s 15ms/step - loss: 0.3248 - mse: 0.2577\n",
            "Epoch 145/200\n",
            "1/1 [==============================] - 0s 10ms/step - loss: 0.3267 - mse: 0.2582\n",
            "Epoch 146/200\n",
            "1/1 [==============================] - 0s 14ms/step - loss: 0.3234 - mse: 0.2583\n",
            "Epoch 147/200\n",
            "1/1 [==============================] - 0s 16ms/step - loss: 0.3250 - mse: 0.2590\n",
            "Epoch 148/200\n",
            "1/1 [==============================] - 0s 19ms/step - loss: 0.3239 - mse: 0.2592\n",
            "Epoch 149/200\n",
            "1/1 [==============================] - 0s 22ms/step - loss: 0.3206 - mse: 0.2591\n",
            "Epoch 150/200\n",
            "1/1 [==============================] - 0s 12ms/step - loss: 0.3261 - mse: 0.2628\n",
            "Epoch 151/200\n",
            "1/1 [==============================] - 0s 14ms/step - loss: 0.3199 - mse: 0.2637\n",
            "Epoch 152/200\n",
            "1/1 [==============================] - 0s 25ms/step - loss: 0.3201 - mse: 0.2652\n",
            "Epoch 153/200\n",
            "1/1 [==============================] - 0s 18ms/step - loss: 0.3198 - mse: 0.2657\n",
            "Epoch 154/200\n",
            "1/1 [==============================] - 0s 12ms/step - loss: 0.3144 - mse: 0.2634\n",
            "Epoch 155/200\n",
            "1/1 [==============================] - 0s 33ms/step - loss: 0.3215 - mse: 0.2615\n",
            "Epoch 156/200\n",
            "1/1 [==============================] - 0s 21ms/step - loss: 0.3157 - mse: 0.2603\n",
            "Epoch 157/200\n",
            "1/1 [==============================] - 0s 16ms/step - loss: 0.3206 - mse: 0.2653\n",
            "Epoch 158/200\n",
            "1/1 [==============================] - 0s 12ms/step - loss: 0.3223 - mse: 0.2668\n",
            "Epoch 159/200\n",
            "1/1 [==============================] - 0s 10ms/step - loss: 0.3129 - mse: 0.2624\n",
            "Epoch 160/200\n",
            "1/1 [==============================] - 0s 10ms/step - loss: 0.3146 - mse: 0.2622\n",
            "Epoch 161/200\n",
            "1/1 [==============================] - 0s 9ms/step - loss: 0.3123 - mse: 0.2647\n",
            "Epoch 162/200\n",
            "1/1 [==============================] - 0s 9ms/step - loss: 0.3097 - mse: 0.2674\n",
            "Epoch 163/200\n",
            "1/1 [==============================] - 0s 9ms/step - loss: 0.3095 - mse: 0.2689\n",
            "Epoch 164/200\n",
            "1/1 [==============================] - 0s 10ms/step - loss: 0.3126 - mse: 0.2690\n",
            "Epoch 165/200\n",
            "1/1 [==============================] - 0s 9ms/step - loss: 0.3080 - mse: 0.2674\n",
            "Epoch 166/200\n",
            "1/1 [==============================] - 0s 8ms/step - loss: 0.3115 - mse: 0.2672\n",
            "Epoch 167/200\n",
            "1/1 [==============================] - 0s 9ms/step - loss: 0.3069 - mse: 0.2621\n",
            "Epoch 168/200\n",
            "1/1 [==============================] - 0s 8ms/step - loss: 0.3066 - mse: 0.2611\n",
            "Epoch 169/200\n",
            "1/1 [==============================] - 0s 10ms/step - loss: 0.3050 - mse: 0.2645\n",
            "Epoch 170/200\n",
            "1/1 [==============================] - 0s 9ms/step - loss: 0.3116 - mse: 0.2706\n",
            "Epoch 171/200\n",
            "1/1 [==============================] - 0s 12ms/step - loss: 0.3120 - mse: 0.2707\n",
            "Epoch 172/200\n",
            "1/1 [==============================] - 0s 10ms/step - loss: 0.3078 - mse: 0.2673\n",
            "Epoch 173/200\n",
            "1/1 [==============================] - 0s 12ms/step - loss: 0.3040 - mse: 0.2627\n",
            "Epoch 174/200\n",
            "1/1 [==============================] - 0s 16ms/step - loss: 0.3038 - mse: 0.2592\n",
            "Epoch 175/200\n",
            "1/1 [==============================] - 0s 13ms/step - loss: 0.3079 - mse: 0.2607\n",
            "Epoch 176/200\n",
            "1/1 [==============================] - 0s 22ms/step - loss: 0.3045 - mse: 0.2560\n",
            "Epoch 177/200\n",
            "1/1 [==============================] - 0s 19ms/step - loss: 0.3068 - mse: 0.2563\n",
            "Epoch 178/200\n",
            "1/1 [==============================] - 0s 17ms/step - loss: 0.3031 - mse: 0.2588\n",
            "Epoch 179/200\n",
            "1/1 [==============================] - 0s 14ms/step - loss: 0.3044 - mse: 0.2641\n",
            "Epoch 180/200\n",
            "1/1 [==============================] - 0s 10ms/step - loss: 0.3065 - mse: 0.2662\n",
            "Epoch 181/200\n",
            "1/1 [==============================] - 0s 8ms/step - loss: 0.3013 - mse: 0.2606\n",
            "Epoch 182/200\n",
            "1/1 [==============================] - 0s 8ms/step - loss: 0.3014 - mse: 0.2560\n",
            "Epoch 183/200\n",
            "1/1 [==============================] - 0s 11ms/step - loss: 0.3014 - mse: 0.2522\n",
            "Epoch 184/200\n",
            "1/1 [==============================] - 0s 6ms/step - loss: 0.3032 - mse: 0.2531\n",
            "Epoch 185/200\n",
            "1/1 [==============================] - 0s 6ms/step - loss: 0.3029 - mse: 0.2540\n",
            "Epoch 186/200\n",
            "1/1 [==============================] - 0s 12ms/step - loss: 0.2993 - mse: 0.2527\n",
            "Epoch 187/200\n",
            "1/1 [==============================] - 0s 7ms/step - loss: 0.3003 - mse: 0.2563\n",
            "Epoch 188/200\n",
            "1/1 [==============================] - 0s 12ms/step - loss: 0.3008 - mse: 0.2605\n",
            "Epoch 189/200\n",
            "1/1 [==============================] - 0s 11ms/step - loss: 0.3025 - mse: 0.2610\n",
            "Epoch 190/200\n",
            "1/1 [==============================] - 0s 9ms/step - loss: 0.2972 - mse: 0.2548\n",
            "Epoch 191/200\n",
            "1/1 [==============================] - 0s 8ms/step - loss: 0.2976 - mse: 0.2507\n",
            "Epoch 192/200\n",
            "1/1 [==============================] - 0s 6ms/step - loss: 0.2999 - mse: 0.2501\n",
            "Epoch 193/200\n",
            "1/1 [==============================] - 0s 6ms/step - loss: 0.3001 - mse: 0.2527\n",
            "Epoch 194/200\n",
            "1/1 [==============================] - 0s 6ms/step - loss: 0.2987 - mse: 0.2550\n",
            "Epoch 195/200\n",
            "1/1 [==============================] - 0s 6ms/step - loss: 0.2966 - mse: 0.2563\n",
            "Epoch 196/200\n",
            "1/1 [==============================] - 0s 7ms/step - loss: 0.2983 - mse: 0.2585\n",
            "Epoch 197/200\n",
            "1/1 [==============================] - 0s 7ms/step - loss: 0.2973 - mse: 0.2574\n",
            "Epoch 198/200\n",
            "1/1 [==============================] - 0s 6ms/step - loss: 0.2943 - mse: 0.2536\n",
            "Epoch 199/200\n",
            "1/1 [==============================] - 0s 6ms/step - loss: 0.2983 - mse: 0.2496\n",
            "Epoch 200/200\n",
            "1/1 [==============================] - 0s 6ms/step - loss: 0.2978 - mse: 0.2481\n"
          ]
        },
        {
          "output_type": "execute_result",
          "data": {
            "text/plain": [
              "<keras.callbacks.History at 0x7f02e2d7e610>"
            ]
          },
          "metadata": {},
          "execution_count": 111
        }
      ]
    },
    {
      "cell_type": "code",
      "source": [
        "X_train, y_train"
      ],
      "metadata": {
        "colab": {
          "base_uri": "https://localhost:8080/"
        },
        "id": "kFhmFIqH9rTy",
        "outputId": "70770fc7-abb0-49bc-888d-9a0e4e0d5ab4"
      },
      "execution_count": null,
      "outputs": [
        {
          "output_type": "execute_result",
          "data": {
            "text/plain": [
              "(<tf.Tensor: shape=(18,), dtype=int64, numpy=\n",
              " array([ 1,  2,  3,  4,  5,  6,  7,  8,  9, 10, 11, 12, 13, 14, 15, 16, 17,\n",
              "        18])>, <tf.Tensor: shape=(18,), dtype=int64, numpy=\n",
              " array([36, 34, 34, 30, 28, 27, 24, 22, 19, 19, 18, 16, 15, 14, 12, 11,  9,\n",
              "         8])>)"
            ]
          },
          "metadata": {},
          "execution_count": 112
        }
      ]
    },
    {
      "cell_type": "code",
      "source": [
        "# Try and predict what y would be if X was 17.0\n",
        "model.summary()"
      ],
      "metadata": {
        "colab": {
          "base_uri": "https://localhost:8080/"
        },
        "id": "cLq9-aCu9pAK",
        "outputId": "7f6b38c9-e74a-4abb-af97-10293400b48a"
      },
      "execution_count": null,
      "outputs": [
        {
          "output_type": "stream",
          "name": "stdout",
          "text": [
            "Model: \"sequential_8\"\n",
            "_________________________________________________________________\n",
            " Layer (type)                Output Shape              Param #   \n",
            "=================================================================\n",
            " dense_48 (Dense)            (None, 100)               200       \n",
            "                                                                 \n",
            " dense_49 (Dense)            (None, 100)               10100     \n",
            "                                                                 \n",
            " dense_50 (Dense)            (None, 100)               10100     \n",
            "                                                                 \n",
            " dense_51 (Dense)            (None, 100)               10100     \n",
            "                                                                 \n",
            " dense_52 (Dense)            (None, 100)               10100     \n",
            "                                                                 \n",
            " dense_53 (Dense)            (None, 1)                 101       \n",
            "                                                                 \n",
            "=================================================================\n",
            "Total params: 40,701\n",
            "Trainable params: 40,701\n",
            "Non-trainable params: 0\n",
            "_________________________________________________________________\n"
          ]
        }
      ]
    },
    {
      "cell_type": "code",
      "source": [
        ""
      ],
      "metadata": {
        "id": "LnbMU_ZxAeeS"
      },
      "execution_count": null,
      "outputs": []
    },
    {
      "cell_type": "code",
      "source": [
        "from tensorflow.keras.utils import plot_model\n",
        "\n",
        "plot_model(model, show_shapes=True)"
      ],
      "metadata": {
        "colab": {
          "base_uri": "https://localhost:8080/",
          "height": 754
        },
        "id": "IBst0Zv5_D8E",
        "outputId": "4c125b5f-3663-4f78-fc81-367f1541e30b"
      },
      "execution_count": null,
      "outputs": [
        {
          "output_type": "execute_result",
          "data": {
            "text/plain": [
              "<IPython.core.display.Image object>"
            ],
            "image/png": "[encoded data removed]"
          },
          "metadata": {},
          "execution_count": 114
        }
      ]
    },
    {
      "cell_type": "code",
      "source": [
        "# Make predictions\n",
        "y_preds = model.predict(X_test)\n",
        "X_test, y_test, y_preds"
      ],
      "metadata": {
        "colab": {
          "base_uri": "https://localhost:8080/"
        },
        "id": "OOjRmsDE_Ns2",
        "outputId": "a0e49bce-4cbf-4308-9440-e399d47fec12"
      },
      "execution_count": null,
      "outputs": [
        {
          "output_type": "execute_result",
          "data": {
            "text/plain": [
              "(<tf.Tensor: shape=(6,), dtype=int64, numpy=array([19, 20, 21, 22, 23, 24])>,\n",
              " <tf.Tensor: shape=(6,), dtype=int64, numpy=array([8, 6, 5, 4, 2, 2])>,\n",
              " array([[7.3097577],\n",
              "        [6.8616877],\n",
              "        [6.4599915],\n",
              "        [6.0937963],\n",
              "        [5.74315  ],\n",
              "        [5.4225454]], dtype=float32))"
            ]
          },
          "metadata": {},
          "execution_count": 115
        }
      ]
    },
    {
      "cell_type": "code",
      "source": [
        ""
      ],
      "metadata": {
        "id": "4sV5YGMKAuxD"
      },
      "execution_count": null,
      "outputs": []
    },
    {
      "cell_type": "code",
      "source": [
        "plt.figure(figsize=(10, 7))\n",
        "plt.title('Candy Depletion Prediction')\n",
        "plt.xlabel('Hrs of Day')\n",
        "plt.ylabel('Candy Count')\n",
        "\n",
        "# Plot training data in blue\n",
        "plt.scatter(X_train, y_train, c='b', label='Training data on Candy Sold')\n",
        "# Plot test data in green\n",
        "plt.scatter(X_test, y_preds,c='r', label='Predictions for Candy Reordering')\n",
        "plt.scatter(X_test, y_test, c='g', label = 'Test data for Candy sold')\n",
        "# Show the legend\n",
        "plt.legend();"
      ],
      "metadata": {
        "colab": {
          "base_uri": "https://localhost:8080/",
          "height": 458
        },
        "id": "JeD7vXsiErSC",
        "outputId": "59b237e9-3d49-4f9e-b34f-6e04561e4f3e"
      },
      "execution_count": null,
      "outputs": [
        {
          "output_type": "display_data",
          "data": {
            "text/plain": [
              "<Figure size 720x504 with 1 Axes>"
            ],
            "image/png": "[encoded data removed]"
          },
          "metadata": {
            "needs_background": "light"
          }
        }
      ]
    }
  ]
}